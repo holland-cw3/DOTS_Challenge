{
 "cells": [
  {
   "cell_type": "markdown",
   "metadata": {
    "id": "2mqkGCa161KJ"
   },
   "source": [
    "# Oh yeah\n",
    "\n",
    "Please answer each of the questions below in the space provided. Copy the noteook, and when you're done, submit as an ipynb file. This will be graded on correctness. Please comment your code to help the grader figure out what you're doing. If you do a hypothesis test, please report all relevant p-values in the text field."
   ]
  },
  {
   "cell_type": "markdown",
   "metadata": {
    "id": "U9ezjr094YOV"
   },
   "source": [
    "Imports and data loading:"
   ]
  },
  {
   "cell_type": "code",
   "execution_count": 52,
   "metadata": {
    "id": "qLP9CqG162Na"
   },
   "outputs": [],
   "source": [
    "import pandas as pd\n",
    "\n",
    "# Data\n",
    "df_data = pd.read_csv('InfoChallenge Dataset_ DOTS - Data.csv')\n",
    "\n",
    "\n",
    "# Training Data & Test Cases\n",
    "df_explained = pd.read_csv('InfoChallenge Dataset_ DOTS - Customer Cases - Explained.csv')\n",
    "df_training = pd.read_csv('InfoChallenge Dataset_ DOTS - Customer Cases - Training.csv')\n",
    "\n",
    "\n",
    "# Restrictions and stuff\n",
    "df_special_events = pd.read_csv('InfoChallenge Dataset_ DOTS - Special Events _ Construction.csv')\n",
    "df_lots_perms = pd.read_csv('InfoChallenge Dataset_ DOTS - Lots & Permissions.csv')\n",
    "df_permits_perms = pd.read_csv('InfoChallenge Dataset_ DOTS - Permits & Permissions.csv')\n",
    "df_dates = pd.read_csv('InfoChallenge Dataset_ DOTS - Dates.csv')\n",
    "df_parking_fines = pd.read_csv('InfoChallenge Dataset_ DOTS - Parking Fines.csv')\n",
    "df_parking_rest = pd.read_csv('InfoChallenge Dataset_ DOTS - Parking Restrictions.csv')\n"
   ]
  },
  {
   "cell_type": "markdown",
   "metadata": {
    "id": "fgg8s7O545uh"
   },
   "source": [
    "Data cleaning - Special Events & Construction:"
   ]
  },
  {
   "cell_type": "code",
   "execution_count": 53,
   "metadata": {
    "id": "0Rv9ghnZ47BR"
   },
   "outputs": [
    {
     "data": {
      "text/plain": [
       "Affected Lot/Populations             N1/4/6/8/9\n",
       "Start Date                  2024-11-04 00:00:00\n",
       "End Date                    2024-11-08 00:00:00\n",
       "Closure Type                       Construction\n",
       "Name: 196, dtype: object"
      ]
     },
     "execution_count": 53,
     "metadata": {},
     "output_type": "execute_result"
    }
   ],
   "source": [
    "df_special_events = df_special_events.drop(['Days Impacted'], axis = 1)\n",
    "\n",
    "df_special_events['Start Date'] = pd.to_datetime(df_special_events['Start Date'])\n",
    "df_special_events['End Date'] = pd.to_datetime(df_special_events['End Date'])\n",
    "\n",
    "df_special_events.loc[df_special_events['End Date'] < df_special_events['Start Date'], ['Start Date', 'End Date']] = \\\n",
    "    df_special_events.loc[df_special_events['End Date'] < df_special_events['Start Date'], ['End Date', 'Start Date']].values\n",
    "\n",
    "df_special_events\n",
    "\n",
    "row = df_special_events.iloc[196]\n",
    "row"
   ]
  },
  {
   "cell_type": "markdown",
   "metadata": {
    "id": "7eeMm4uJ5Jxb"
   },
   "source": [
    "Data cleaning - Lots & Permissions:"
   ]
  },
  {
   "cell_type": "code",
   "execution_count": 54,
   "metadata": {
    "id": "IvigDfXw5KSz"
   },
   "outputs": [
    {
     "data": {
      "text/plain": [
       "'23:59'"
      ]
     },
     "execution_count": 54,
     "metadata": {},
     "output_type": "execute_result"
    }
   ],
   "source": [
    "df_lots_perms[\"Start Time - Daily\"] = pd.to_datetime(df_lots_perms[\"Start Time - Daily\"], format='%H:%M:%S')\n",
    "df_lots_perms[\"End Time - Daily\"] = pd.to_datetime(df_lots_perms[\"End Time - Daily\"], format='%H:%M:%S')\n",
    "df_lots_perms[\"Start Time - Daily\"] = df_lots_perms[\"Start Time - Daily\"].dt.strftime('%H:%M')\n",
    "df_lots_perms[\"End Time - Daily\"] = df_lots_perms[\"End Time - Daily\"].dt.strftime('%H:%M')\n",
    "\n",
    "row = df_lots_perms[\"End Time - Daily\"].iloc[101]\n",
    "row\n",
    "\n"
   ]
  },
  {
   "cell_type": "markdown",
   "metadata": {
    "id": "LUzUwLNz5NO9"
   },
   "source": [
    "6. Which two questions in this semester's data have the most correlated answer?"
   ]
  },
  {
   "cell_type": "markdown",
   "metadata": {
    "id": "_Cya4gKY5Ws2"
   },
   "source": [
    "Your answer:"
   ]
  },
  {
   "cell_type": "code",
   "execution_count": null,
   "metadata": {
    "id": "CGiM_Xj45YIV"
   },
   "outputs": [],
   "source": []
  },
  {
   "cell_type": "markdown",
   "metadata": {
    "id": "Uh2zgs3j5XdQ"
   },
   "source": [
    "7. Which two questions this semseter had the highest covariance?"
   ]
  },
  {
   "cell_type": "markdown",
   "metadata": {
    "id": "Q_Y5Xqo85cA7"
   },
   "source": [
    "Your answer:"
   ]
  },
  {
   "cell_type": "code",
   "execution_count": null,
   "metadata": {
    "id": "w_iLz3N95bFX"
   },
   "outputs": [],
   "source": []
  },
  {
   "cell_type": "markdown",
   "metadata": {
    "id": "tqfMUa1W5rv4"
   },
   "source": [
    "8. Which question this semseter was most strongly influenced by respondants religious views?"
   ]
  }
 ],
 "metadata": {
  "colab": {
   "provenance": [
    {
     "file_id": "12ibjIrkwj4YS_On3AvRi6tofvDmvJKrG",
     "timestamp": 1728057421988
    }
   ]
  },
  "kernelspec": {
   "display_name": "cmsc320",
   "language": "python",
   "name": "python3"
  },
  "language_info": {
   "codemirror_mode": {
    "name": "ipython",
    "version": 3
   },
   "file_extension": ".py",
   "mimetype": "text/x-python",
   "name": "python",
   "nbconvert_exporter": "python",
   "pygments_lexer": "ipython3",
   "version": "3.8.19"
  }
 },
 "nbformat": 4,
 "nbformat_minor": 0
}
