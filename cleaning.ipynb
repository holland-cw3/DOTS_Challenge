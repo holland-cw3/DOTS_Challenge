{
 "cells": [
  {
   "cell_type": "markdown",
   "metadata": {
    "id": "2mqkGCa161KJ"
   },
   "source": [
    "# Oh yeah\n",
    "\n",
    "Please answer each of the questions below in the space provided. Copy the noteook, and when you're done, submit as an ipynb file. This will be graded on correctness. Please comment your code to help the grader figure out what you're doing. If you do a hypothesis test, please report all relevant p-values in the text field."
   ]
  },
  {
   "cell_type": "markdown",
   "metadata": {
    "id": "U9ezjr094YOV"
   },
   "source": [
    "Imports and data loading:"
   ]
  },
  {
   "cell_type": "code",
   "execution_count": 15,
   "metadata": {
    "id": "qLP9CqG162Na"
   },
   "outputs": [],
   "source": [
    "import pandas as pd\n",
    "\n",
    "# Data\n",
    "df_data = pd.read_csv('InfoChallenge Dataset_ DOTS - Data.csv')\n",
    "\n",
    "\n",
    "# Training Data & Test Cases\n",
    "df_explained = pd.read_csv('InfoChallenge Dataset_ DOTS - Customer Cases - Explained.csv')\n",
    "df_training = pd.read_csv('InfoChallenge Dataset_ DOTS - Customer Cases - Training.csv')\n",
    "\n",
    "\n",
    "# Restrictions and stuff\n",
    "df_special_events = pd.read_csv('InfoChallenge Dataset_ DOTS - Special Events _ Construction.csv')\n",
    "df_lots_perms = pd.read_csv('InfoChallenge Dataset_ DOTS - Lots & Permissions.csv')\n",
    "df_permits_perms = pd.read_csv('InfoChallenge Dataset_ DOTS - Permits & Permissions.csv')\n",
    "df_dates = pd.read_csv('InfoChallenge Dataset_ DOTS - Dates.csv')\n",
    "df_parking_fines = pd.read_csv('InfoChallenge Dataset_ DOTS - Parking Fines.csv')\n",
    "df_parking_rest = pd.read_csv('InfoChallenge Dataset_ DOTS - Parking Restrictions.csv')\n"
   ]
  },
  {
   "cell_type": "markdown",
   "metadata": {
    "id": "fgg8s7O545uh"
   },
   "source": [
    "Data cleaning - Special Events & Construction:"
   ]
  },
  {
   "cell_type": "code",
   "execution_count": null,
   "metadata": {
    "id": "0Rv9ghnZ47BR"
   },
   "outputs": [
    {
     "data": {
      "text/html": [
       "<div>\n",
       "<style scoped>\n",
       "    .dataframe tbody tr th:only-of-type {\n",
       "        vertical-align: middle;\n",
       "    }\n",
       "\n",
       "    .dataframe tbody tr th {\n",
       "        vertical-align: top;\n",
       "    }\n",
       "\n",
       "    .dataframe thead th {\n",
       "        text-align: right;\n",
       "    }\n",
       "</style>\n",
       "<table border=\"1\" class=\"dataframe\">\n",
       "  <thead>\n",
       "    <tr style=\"text-align: right;\">\n",
       "      <th></th>\n",
       "      <th>Affected Lot/Populations</th>\n",
       "      <th>Start Date</th>\n",
       "      <th>End Date</th>\n",
       "      <th>Closure Type</th>\n",
       "    </tr>\n",
       "  </thead>\n",
       "  <tbody>\n",
       "    <tr>\n",
       "      <th>0</th>\n",
       "      <td>W</td>\n",
       "      <td>2023-01-03</td>\n",
       "      <td>2023-02-22</td>\n",
       "      <td>Construction</td>\n",
       "    </tr>\n",
       "    <tr>\n",
       "      <th>1</th>\n",
       "      <td>UU</td>\n",
       "      <td>2024-01-08</td>\n",
       "      <td>2025-06-01</td>\n",
       "      <td>Construction</td>\n",
       "    </tr>\n",
       "    <tr>\n",
       "      <th>2</th>\n",
       "      <td>Y</td>\n",
       "      <td>2024-01-11</td>\n",
       "      <td>2024-01-12</td>\n",
       "      <td>Special Event</td>\n",
       "    </tr>\n",
       "    <tr>\n",
       "      <th>3</th>\n",
       "      <td>SS</td>\n",
       "      <td>2024-01-12</td>\n",
       "      <td>2024-01-15</td>\n",
       "      <td>Construction</td>\n",
       "    </tr>\n",
       "    <tr>\n",
       "      <th>4</th>\n",
       "      <td>J</td>\n",
       "      <td>2024-01-20</td>\n",
       "      <td>2024-01-20</td>\n",
       "      <td>Construction</td>\n",
       "    </tr>\n",
       "    <tr>\n",
       "      <th>...</th>\n",
       "      <td>...</td>\n",
       "      <td>...</td>\n",
       "      <td>...</td>\n",
       "      <td>...</td>\n",
       "    </tr>\n",
       "    <tr>\n",
       "      <th>316</th>\n",
       "      <td>Stadium Drive</td>\n",
       "      <td>2025-03-23</td>\n",
       "      <td>2025-03-23</td>\n",
       "      <td>Operations</td>\n",
       "    </tr>\n",
       "    <tr>\n",
       "      <th>317</th>\n",
       "      <td>SDG</td>\n",
       "      <td>2025-04-04</td>\n",
       "      <td>2025-04-04</td>\n",
       "      <td>Special Event</td>\n",
       "    </tr>\n",
       "    <tr>\n",
       "      <th>318</th>\n",
       "      <td>Union Lane Garage</td>\n",
       "      <td>2025-04-24</td>\n",
       "      <td>2025-04-24</td>\n",
       "      <td>Special Event</td>\n",
       "    </tr>\n",
       "    <tr>\n",
       "      <th>319</th>\n",
       "      <td>Union Lane Garage</td>\n",
       "      <td>2025-05-01</td>\n",
       "      <td>2025-05-02</td>\n",
       "      <td>Special Event</td>\n",
       "    </tr>\n",
       "    <tr>\n",
       "      <th>320</th>\n",
       "      <td>Regents Drive Garage</td>\n",
       "      <td>2025-05-01</td>\n",
       "      <td>2025-05-02</td>\n",
       "      <td>Special Event</td>\n",
       "    </tr>\n",
       "  </tbody>\n",
       "</table>\n",
       "<p>321 rows × 4 columns</p>\n",
       "</div>"
      ],
      "text/plain": [
       "    Affected Lot/Populations Start Date   End Date   Closure Type\n",
       "0                          W 2023-01-03 2023-02-22   Construction\n",
       "1                         UU 2024-01-08 2025-06-01   Construction\n",
       "2                          Y 2024-01-11 2024-01-12  Special Event\n",
       "3                         SS 2024-01-12 2024-01-15   Construction\n",
       "4                          J 2024-01-20 2024-01-20   Construction\n",
       "..                       ...        ...        ...            ...\n",
       "316            Stadium Drive 2025-03-23 2025-03-23     Operations\n",
       "317                      SDG 2025-04-04 2025-04-04  Special Event\n",
       "318        Union Lane Garage 2025-04-24 2025-04-24  Special Event\n",
       "319        Union Lane Garage 2025-05-01 2025-05-02  Special Event\n",
       "320     Regents Drive Garage 2025-05-01 2025-05-02  Special Event\n",
       "\n",
       "[321 rows x 4 columns]"
      ]
     },
     "execution_count": 16,
     "metadata": {},
     "output_type": "execute_result"
    }
   ],
   "source": [
    "df_special_events = df_special_events.drop(['Days Impacted'], axis = 1)\n",
    "\n",
    "df_special_events['Start Date'] = pd.to_datetime(df_special_events['Start Date'])\n",
    "df_special_events['End Date'] = pd.to_datetime(df_special_events['End Date'])\n",
    "\n",
    "df_special_events"
   ]
  },
  {
   "cell_type": "markdown",
   "metadata": {
    "id": "7eeMm4uJ5Jxb"
   },
   "source": [
    "5. What hour of the day were most of the surveys completed?"
   ]
  },
  {
   "cell_type": "markdown",
   "metadata": {
    "id": "uyR8ZzCd5K5G"
   },
   "source": [
    "Your answer here:"
   ]
  },
  {
   "cell_type": "code",
   "execution_count": null,
   "metadata": {
    "id": "IvigDfXw5KSz"
   },
   "outputs": [],
   "source": []
  },
  {
   "cell_type": "markdown",
   "metadata": {
    "id": "LUzUwLNz5NO9"
   },
   "source": [
    "6. Which two questions in this semester's data have the most correlated answer?"
   ]
  },
  {
   "cell_type": "markdown",
   "metadata": {
    "id": "_Cya4gKY5Ws2"
   },
   "source": [
    "Your answer:"
   ]
  },
  {
   "cell_type": "code",
   "execution_count": null,
   "metadata": {
    "id": "CGiM_Xj45YIV"
   },
   "outputs": [],
   "source": []
  },
  {
   "cell_type": "markdown",
   "metadata": {
    "id": "Uh2zgs3j5XdQ"
   },
   "source": [
    "7. Which two questions this semseter had the highest covariance?"
   ]
  },
  {
   "cell_type": "markdown",
   "metadata": {
    "id": "Q_Y5Xqo85cA7"
   },
   "source": [
    "Your answer:"
   ]
  },
  {
   "cell_type": "code",
   "execution_count": null,
   "metadata": {
    "id": "w_iLz3N95bFX"
   },
   "outputs": [],
   "source": []
  },
  {
   "cell_type": "markdown",
   "metadata": {
    "id": "tqfMUa1W5rv4"
   },
   "source": [
    "8. Which question this semseter was most strongly influenced by respondants religious views?"
   ]
  }
 ],
 "metadata": {
  "colab": {
   "provenance": [
    {
     "file_id": "12ibjIrkwj4YS_On3AvRi6tofvDmvJKrG",
     "timestamp": 1728057421988
    }
   ]
  },
  "kernelspec": {
   "display_name": "Python 3",
   "name": "python3"
  },
  "language_info": {
   "codemirror_mode": {
    "name": "ipython",
    "version": 3
   },
   "file_extension": ".py",
   "mimetype": "text/x-python",
   "name": "python",
   "nbconvert_exporter": "python",
   "pygments_lexer": "ipython3",
   "version": "3.11.9"
  }
 },
 "nbformat": 4,
 "nbformat_minor": 0
}
