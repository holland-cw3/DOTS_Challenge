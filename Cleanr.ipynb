{
 "cells": [
  {
   "cell_type": "markdown",
   "metadata": {
    "id": "2mqkGCa161KJ"
   },
   "source": [
    "# Homework 3 Questions\n",
    "\n",
    "Please answer each of the questions below in the space provided. Copy the noteook, and when you're done, submit as an ipynb file. This will be graded on correctness. Please comment your code to help the grader figure out what you're doing. If you do a hypothesis test, please report all relevant p-values in the text field."
   ]
  },
  {
   "cell_type": "markdown",
   "metadata": {
    "id": "U9ezjr094YOV"
   },
   "source": [
    "Imports and data loading:"
   ]
  },
  {
   "cell_type": "code",
   "execution_count": null,
   "metadata": {
    "id": "qLP9CqG162Na"
   },
   "outputs": [],
   "source": [
    "import pandas as pd\n",
    "\n",
    "# Data\n",
    "df_data = pd.read_csv('InfoChallenge Dataset_ DOTS - Data.csv')\n",
    "\n",
    "\n",
    "# Training Data & Test Cases\n",
    "df_explained = pd.read_csv('InfoChallenge Dataset_ DOTS - Customer Cases - Explained.csv')\n",
    "df_training = pd.read_csv('InfoChallenge Dataset_ DOTS - Customer Cases - Training.csv')\n",
    "\n",
    "\n",
    "# Restrictions and stuff\n",
    "df_special_events = pd.read_csv('InfoChallenge Dataset_ DOTS - Special Events _ Construction.csv')\n",
    "df_lots_perms = pd.read_csv('InfoChallenge Dataset_ DOTS - Lots & Permissions.csv')\n",
    "df_permits_perms = pd.read_csv('InfoChallenge Dataset_ DOTS - Permits & Permissions.csv')\n",
    "df_dates = pd.read_csv('InfoChallenge Dataset_ DOTS - Dates.csv')\n",
    "df_parking_fines = pd.read_csv('InfoChallenge Dataset_ DOTS - Parking Fines.csv')\n",
    "df_parking_rest = pd.read_csv('InfoChallenge Dataset_ DOTS - Parking Restrictions.csv')\n",
    "\n",
    "\n",
    "\n",
    "\n",
    "\n",
    "\n",
    "\n",
    "\n"
   ]
  },
  {
   "cell_type": "markdown",
   "metadata": {
    "id": "fgg8s7O545uh"
   },
   "source": [
    "Data cleaning:"
   ]
  },
  {
   "cell_type": "code",
   "execution_count": 17,
   "metadata": {
    "id": "0Rv9ghnZ47BR"
   },
   "outputs": [
    {
     "data": {
      "text/html": [
       "<div>\n",
       "<style scoped>\n",
       "    .dataframe tbody tr th:only-of-type {\n",
       "        vertical-align: middle;\n",
       "    }\n",
       "\n",
       "    .dataframe tbody tr th {\n",
       "        vertical-align: top;\n",
       "    }\n",
       "\n",
       "    .dataframe thead th {\n",
       "        text-align: right;\n",
       "    }\n",
       "</style>\n",
       "<table border=\"1\" class=\"dataframe\">\n",
       "  <thead>\n",
       "    <tr style=\"text-align: right;\">\n",
       "      <th></th>\n",
       "      <th>Parking Lot / Zone Name</th>\n",
       "      <th>Restrictions</th>\n",
       "      <th>Required</th>\n",
       "      <th>Parking Restrictions</th>\n",
       "      <th>Overflow Lot</th>\n",
       "    </tr>\n",
       "  </thead>\n",
       "  <tbody>\n",
       "    <tr>\n",
       "      <th>0</th>\n",
       "      <td>A</td>\n",
       "      <td>Restricted after 4PM</td>\n",
       "      <td>Gated; 7am - 4pm Mon. - Fri. valid lot # campu...</td>\n",
       "      <td>Only faculty/staff with a valid CLPR/permit ma...</td>\n",
       "      <td>NaN</td>\n",
       "    </tr>\n",
       "    <tr>\n",
       "      <th>1</th>\n",
       "      <td>AA</td>\n",
       "      <td>Special Restrictions</td>\n",
       "      <td>KK requires lot KK CLPR/permit 7am - 8pm Mon. ...</td>\n",
       "      <td>KK requires lot KK CLPR/permit 7am - 8pm Mon. ...</td>\n",
       "      <td>NaN</td>\n",
       "    </tr>\n",
       "    <tr>\n",
       "      <th>2</th>\n",
       "      <td>B</td>\n",
       "      <td>Unrestricted after 4PM</td>\n",
       "      <td>7am - 4pm Mon. - Fri. valid lot # campus parki...</td>\n",
       "      <td>Free parking 4pm - 7am Mon. - Fri. and all day...</td>\n",
       "      <td>NaN</td>\n",
       "    </tr>\n",
       "    <tr>\n",
       "      <th>3</th>\n",
       "      <td>BB</td>\n",
       "      <td>Special Restrictions</td>\n",
       "      <td>KK requires lot KK CLPR/permit 7am - 8pm Mon. ...</td>\n",
       "      <td>KK requires lot KK CLPR/permit 7am - 8pm Mon. ...</td>\n",
       "      <td>NaN</td>\n",
       "    </tr>\n",
       "    <tr>\n",
       "      <th>4</th>\n",
       "      <td>C1</td>\n",
       "      <td>Unrestricted after 4PM</td>\n",
       "      <td>7am - 4pm Mon. - Fri. valid lot # campus parki...</td>\n",
       "      <td>Free parking 4pm - 7am Mon. - Fri. and all day...</td>\n",
       "      <td>NaN</td>\n",
       "    </tr>\n",
       "    <tr>\n",
       "      <th>...</th>\n",
       "      <td>...</td>\n",
       "      <td>...</td>\n",
       "      <td>...</td>\n",
       "      <td>...</td>\n",
       "      <td>...</td>\n",
       "    </tr>\n",
       "    <tr>\n",
       "      <th>223</th>\n",
       "      <td>Washington Hall</td>\n",
       "      <td>Miscellaneous Permissions</td>\n",
       "      <td>NaN</td>\n",
       "      <td>NaN</td>\n",
       "      <td>NaN</td>\n",
       "    </tr>\n",
       "    <tr>\n",
       "      <th>224</th>\n",
       "      <td>Wicomico Hall</td>\n",
       "      <td>Miscellaneous Permissions</td>\n",
       "      <td>NaN</td>\n",
       "      <td>NaN</td>\n",
       "      <td>NaN</td>\n",
       "    </tr>\n",
       "    <tr>\n",
       "      <th>225</th>\n",
       "      <td>Woods Hall</td>\n",
       "      <td>Miscellaneous Permissions</td>\n",
       "      <td>NaN</td>\n",
       "      <td>NaN</td>\n",
       "      <td>NaN</td>\n",
       "    </tr>\n",
       "    <tr>\n",
       "      <th>226</th>\n",
       "      <td>Worchester Hall</td>\n",
       "      <td>Miscellaneous Permissions</td>\n",
       "      <td>NaN</td>\n",
       "      <td>NaN</td>\n",
       "      <td>NaN</td>\n",
       "    </tr>\n",
       "    <tr>\n",
       "      <th>227</th>\n",
       "      <td>Young Children Center</td>\n",
       "      <td>Miscellaneous Permissions</td>\n",
       "      <td>NaN</td>\n",
       "      <td>NaN</td>\n",
       "      <td>NaN</td>\n",
       "    </tr>\n",
       "  </tbody>\n",
       "</table>\n",
       "<p>228 rows × 5 columns</p>\n",
       "</div>"
      ],
      "text/plain": [
       "    Parking Lot / Zone Name               Restrictions  \\\n",
       "0                         A       Restricted after 4PM   \n",
       "1                        AA       Special Restrictions   \n",
       "2                         B     Unrestricted after 4PM   \n",
       "3                        BB       Special Restrictions   \n",
       "4                        C1     Unrestricted after 4PM   \n",
       "..                      ...                        ...   \n",
       "223         Washington Hall  Miscellaneous Permissions   \n",
       "224           Wicomico Hall  Miscellaneous Permissions   \n",
       "225              Woods Hall  Miscellaneous Permissions   \n",
       "226         Worchester Hall  Miscellaneous Permissions   \n",
       "227   Young Children Center  Miscellaneous Permissions   \n",
       "\n",
       "                                              Required  \\\n",
       "0    Gated; 7am - 4pm Mon. - Fri. valid lot # campu...   \n",
       "1    KK requires lot KK CLPR/permit 7am - 8pm Mon. ...   \n",
       "2    7am - 4pm Mon. - Fri. valid lot # campus parki...   \n",
       "3    KK requires lot KK CLPR/permit 7am - 8pm Mon. ...   \n",
       "4    7am - 4pm Mon. - Fri. valid lot # campus parki...   \n",
       "..                                                 ...   \n",
       "223                                                NaN   \n",
       "224                                                NaN   \n",
       "225                                                NaN   \n",
       "226                                                NaN   \n",
       "227                                                NaN   \n",
       "\n",
       "                                  Parking Restrictions Overflow Lot  \n",
       "0    Only faculty/staff with a valid CLPR/permit ma...          NaN  \n",
       "1    KK requires lot KK CLPR/permit 7am - 8pm Mon. ...          NaN  \n",
       "2    Free parking 4pm - 7am Mon. - Fri. and all day...          NaN  \n",
       "3    KK requires lot KK CLPR/permit 7am - 8pm Mon. ...          NaN  \n",
       "4    Free parking 4pm - 7am Mon. - Fri. and all day...          NaN  \n",
       "..                                                 ...          ...  \n",
       "223                                                NaN          NaN  \n",
       "224                                                NaN          NaN  \n",
       "225                                                NaN          NaN  \n",
       "226                                                NaN          NaN  \n",
       "227                                                NaN          NaN  \n",
       "\n",
       "[228 rows x 5 columns]"
      ]
     },
     "execution_count": 17,
     "metadata": {},
     "output_type": "execute_result"
    }
   ],
   "source": [
    "df_parking_rest"
   ]
  },
  {
   "cell_type": "markdown",
   "metadata": {
    "id": "7eeMm4uJ5Jxb"
   },
   "source": [
    "5. What hour of the day were most of the surveys completed?"
   ]
  },
  {
   "cell_type": "markdown",
   "metadata": {
    "id": "uyR8ZzCd5K5G"
   },
   "source": [
    "Your answer here:"
   ]
  },
  {
   "cell_type": "code",
   "execution_count": null,
   "metadata": {
    "id": "IvigDfXw5KSz"
   },
   "outputs": [],
   "source": []
  },
  {
   "cell_type": "markdown",
   "metadata": {
    "id": "LUzUwLNz5NO9"
   },
   "source": [
    "6. Which two questions in this semester's data have the most correlated answer?"
   ]
  },
  {
   "cell_type": "markdown",
   "metadata": {
    "id": "_Cya4gKY5Ws2"
   },
   "source": [
    "Your answer:"
   ]
  },
  {
   "cell_type": "code",
   "execution_count": null,
   "metadata": {
    "id": "CGiM_Xj45YIV"
   },
   "outputs": [],
   "source": []
  },
  {
   "cell_type": "markdown",
   "metadata": {
    "id": "Uh2zgs3j5XdQ"
   },
   "source": [
    "7. Which two questions this semseter had the highest covariance?"
   ]
  },
  {
   "cell_type": "markdown",
   "metadata": {
    "id": "Q_Y5Xqo85cA7"
   },
   "source": [
    "Your answer:"
   ]
  },
  {
   "cell_type": "code",
   "execution_count": null,
   "metadata": {
    "id": "w_iLz3N95bFX"
   },
   "outputs": [],
   "source": []
  },
  {
   "cell_type": "markdown",
   "metadata": {
    "id": "tqfMUa1W5rv4"
   },
   "source": [
    "8. Which question this semseter was most strongly influenced by respondants religious views?"
   ]
  }
 ],
 "metadata": {
  "colab": {
   "provenance": [
    {
     "file_id": "12ibjIrkwj4YS_On3AvRi6tofvDmvJKrG",
     "timestamp": 1728057421988
    }
   ]
  },
  "kernelspec": {
   "display_name": "Python 3",
   "name": "python3"
  },
  "language_info": {
   "codemirror_mode": {
    "name": "ipython",
    "version": 3
   },
   "file_extension": ".py",
   "mimetype": "text/x-python",
   "name": "python",
   "nbconvert_exporter": "python",
   "pygments_lexer": "ipython3",
   "version": "3.11.9"
  }
 },
 "nbformat": 4,
 "nbformat_minor": 0
}
